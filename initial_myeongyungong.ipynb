{
  "nbformat": 4,
  "nbformat_minor": 0,
  "metadata": {
    "colab": {
      "provenance": [],
      "authorship_tag": "ABX9TyN7pcuV92g6vM06fx8K5L3i",
      "include_colab_link": true
    },
    "kernelspec": {
      "name": "python3",
      "display_name": "Python 3"
    },
    "language_info": {
      "name": "python"
    }
  },
  "cells": [
    {
      "cell_type": "markdown",
      "metadata": {
        "id": "view-in-github",
        "colab_type": "text"
      },
      "source": [
        "<a href=\"https://colab.research.google.com/github/scvgong/study_temps/blob/main/initial_myeongyungong.ipynb\" target=\"_parent\"><img src=\"https://colab.research.google.com/assets/colab-badge.svg\" alt=\"Open In Colab\"/></a>"
      ]
    },
    {
      "cell_type": "code",
      "execution_count": null,
      "metadata": {
        "colab": {
          "base_uri": "https://localhost:8080/"
        },
        "id": "nqCm_NYOjm6Z",
        "outputId": "bf0b0854-7bfc-404e-8b0e-3dc5f1528237"
      },
      "outputs": [
        {
          "output_type": "stream",
          "name": "stdout",
          "text": [
            "안녕하세요. 첫 개발 시작입니다.\n"
          ]
        }
      ],
      "source": [
        "# 여긴 화면 출력 명령어\n",
        "print(\"안녕하세요. 첫 개발 시작입니다.\") # 안녕 출력"
      ]
    },
    {
      "cell_type": "code",
      "source": [
        "#quest 1\n",
        "print(\"공명윤은 데이터 엔지니어 양성과정을 듣습니다.\")"
      ],
      "metadata": {
        "colab": {
          "base_uri": "https://localhost:8080/"
        },
        "id": "Wv9eCPghooqO",
        "outputId": "516d4184-0dbb-44e2-b63e-e7908edafd46"
      },
      "execution_count": null,
      "outputs": [
        {
          "output_type": "stream",
          "name": "stdout",
          "text": [
            "공명윤은 데이터 엔지니어 양성과정을 듣습니다.\n"
          ]
        }
      ]
    },
    {
      "cell_type": "code",
      "source": [
        "# 숫자화된 문자 출력 with 상수\n",
        "print(\"4 + 5\")"
      ],
      "metadata": {
        "colab": {
          "base_uri": "https://localhost:8080/"
        },
        "id": "MlQOh5BVtkqS",
        "outputId": "31f97719-0880-4793-e871-321b422210df"
      },
      "execution_count": null,
      "outputs": [
        {
          "output_type": "stream",
          "name": "stdout",
          "text": [
            "4 + 5\n"
          ]
        }
      ]
    },
    {
      "cell_type": "code",
      "source": [
        "# 숫자 with 상수\n",
        "print(4 + 5)"
      ],
      "metadata": {
        "colab": {
          "base_uri": "https://localhost:8080/"
        },
        "id": "o3UEpQzDuYnr",
        "outputId": "6fc9b56e-778c-4f38-f634-935ac583e939"
      },
      "execution_count": null,
      "outputs": [
        {
          "output_type": "stream",
          "name": "stdout",
          "text": [
            "9\n"
          ]
        }
      ]
    },
    {
      "cell_type": "code",
      "source": [
        "# 숫자화된 문자 출력 with 변수\n",
        "numberwithval = \"4 + 5\"\n",
        "print(numberwithval)"
      ],
      "metadata": {
        "colab": {
          "base_uri": "https://localhost:8080/"
        },
        "id": "UVnTEO8evhrh",
        "outputId": "f71b32e0-d96b-44f0-cc2b-8ef3ced441d8"
      },
      "execution_count": null,
      "outputs": [
        {
          "output_type": "stream",
          "name": "stdout",
          "text": [
            "4 + 5\n"
          ]
        }
      ]
    },
    {
      "cell_type": "code",
      "source": [
        "# Quest 2\n",
        "numberwithval2 = \"40 + 50\"\n",
        "print(numberwithval2)"
      ],
      "metadata": {
        "colab": {
          "base_uri": "https://localhost:8080/"
        },
        "id": "FvRJpR9i065h",
        "outputId": "f92f5292-297a-41aa-ad61-65c496eef7a9"
      },
      "execution_count": null,
      "outputs": [
        {
          "output_type": "stream",
          "name": "stdout",
          "text": [
            "40 + 50\n"
          ]
        }
      ]
    },
    {
      "cell_type": "code",
      "source": [
        "# 숫자화된 변수 출력 with 변수\n",
        "numbers = numberwithval2 + \" = 90\"\n",
        "print(numbers)"
      ],
      "metadata": {
        "colab": {
          "base_uri": "https://localhost:8080/"
        },
        "id": "4DgzAN5F1z3Q",
        "outputId": "61b1ea41-d288-433e-c836-5fc17980d99d"
      },
      "execution_count": null,
      "outputs": [
        {
          "output_type": "stream",
          "name": "stdout",
          "text": [
            "40 + 50 = 90\n"
          ]
        }
      ]
    },
    {
      "cell_type": "code",
      "source": [
        "define_number = 10\n",
        "numberwithval = numberwithval2 + str(define_number)\n",
        "print(numberwithval)"
      ],
      "metadata": {
        "colab": {
          "base_uri": "https://localhost:8080/"
        },
        "id": "GO5wEz6D2VQP",
        "outputId": "fba7fa62-8209-4aeb-f970-f2c8e6d26358"
      },
      "execution_count": null,
      "outputs": [
        {
          "output_type": "stream",
          "name": "stdout",
          "text": [
            "40 + 5010\n"
          ]
        }
      ]
    },
    {
      "cell_type": "code",
      "source": [
        "# 데이터 타입이 숫자 with 변수\n",
        "result = 4 + 5\n",
        "print(result)"
      ],
      "metadata": {
        "colab": {
          "base_uri": "https://localhost:8080/"
        },
        "id": "z6ib3leMBTgP",
        "outputId": "8fb96827-ec51-4b46-f365-2a0b4ed7c8fe"
      },
      "execution_count": null,
      "outputs": [
        {
          "output_type": "stream",
          "name": "stdout",
          "text": [
            "9\n"
          ]
        }
      ]
    },
    {
      "cell_type": "code",
      "source": [
        "# 두 수를 입력 받아 변수에 넣고 결과 출력\n",
        "input = 4\n",
        "inputtwo = 5\n",
        "result = input + inputtwo\n",
        "print(result)"
      ],
      "metadata": {
        "colab": {
          "base_uri": "https://localhost:8080/"
        },
        "id": "4NHYloKpB2fl",
        "outputId": "4622e876-8255-42da-a06a-8493362afad5"
      },
      "execution_count": null,
      "outputs": [
        {
          "output_type": "stream",
          "name": "stdout",
          "text": [
            "9\n"
          ]
        }
      ]
    },
    {
      "cell_type": "code",
      "source": [
        "# 위에 내용 반복\n",
        "input = 8\n",
        "inputtwo = 9\n",
        "result = input + inputtwo\n",
        "print(result)"
      ],
      "metadata": {
        "colab": {
          "base_uri": "https://localhost:8080/"
        },
        "id": "h7k5OhG6EQwt",
        "outputId": "76bcf228-d14b-44c9-fc33-2f1309e3bcf2"
      },
      "execution_count": null,
      "outputs": [
        {
          "output_type": "stream",
          "name": "stdout",
          "text": [
            "17\n"
          ]
        }
      ]
    },
    {
      "cell_type": "code",
      "source": [
        "#여긴 화면 출력명령어\n",
        "print(\"안녕하세요. 첫 개발 시작입니다\")\n",
        "\n",
        "#quest1\n",
        "print(\"공명윤은 데이터 엔지니어 양성 과정을 듣습니다\")\n",
        "\n",
        "#숫자화된 문자 출력 with 상수\n",
        "print(\" 4+5\")\n",
        "\n",
        "#숫자 with 상수\n",
        "print(4+5)\n",
        "\n",
        "#숫자화된 문자 출력 with 변수\n",
        "numberwithval = \" 4+5 \"\n",
        "print(numberwithval)\n",
        "\n",
        "#quest 2\n",
        "numberwithval2 = \"40+50\"\n",
        "print(numberwithval2)\n",
        "\n",
        "#숫자화된 변수 출력 with 변수\n",
        "numbers = numberwithval2 + \" =90\"\n",
        "print(numbers)\n",
        "\n",
        "define_number = 10\n",
        "numberwithval = numberwithval2 + str(define_number)\n",
        "print(numberwithval)\n",
        "\n",
        "#데이터 타입이 숫자 with 변수\n",
        "result = 4 + 5\n",
        "print(result)\n",
        "\n",
        "#두 수를 입력 받아 변수에 넣고 결과 출력\n",
        "input = 4\n",
        "inputtwo = 5\n",
        "result = input + inputtwo\n",
        "print(result)\n",
        "\n"
      ],
      "metadata": {
        "id": "nADa8QJTESn7",
        "colab": {
          "base_uri": "https://localhost:8080/"
        },
        "outputId": "cb3766b8-2efa-43a5-e917-52befd9bdf4f"
      },
      "execution_count": 1,
      "outputs": [
        {
          "output_type": "stream",
          "name": "stdout",
          "text": [
            "안녕하세요. 첫 개발 시작입니다\n",
            "공명윤은 데이터 엔지니어 양성 과정을 듣습니다\n",
            " 4+5\n",
            "9\n",
            " 4+5 \n",
            "40+50\n",
            "40+50 =90\n",
            "40+5010\n",
            "9\n",
            "9\n"
          ]
        }
      ]
    },
    {
      "cell_type": "code",
      "source": [],
      "metadata": {
        "id": "-cl95ld8Fh2N"
      },
      "execution_count": null,
      "outputs": []
    }
  ]
}